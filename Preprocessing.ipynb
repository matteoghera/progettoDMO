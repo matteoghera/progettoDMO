{
 "cells": [
  {
   "cell_type": "markdown",
   "metadata": {},
   "source": [
    "# Progetto Data Mining and Organization #\n",
    "\n",
    "In questo Notebook eseguo il preposessing del dataset degli *Studenti del primo anno d'informatica coorti 2010-2016* usando il linguaggio statistico R.\n",
    "\n",
    "Il data set contiene 454 record relativi a studenti di 7 coorti del CdS Informatica della Scuola di SMFN. \n",
    "Ogni record ha i seguenti attributi: Coorte, Genere, Voto_test, Crediti_totali, Crediti_convoto, Voto_medio,\n",
    "Scuola_provenienza,\tASD, data_ASD, ARC, data_ARC, PRG, data_PRG, AN1, data_AN1, MDL, data_MDL, ING, data_ING\n",
    "\n",
    "In particolare, per ogni coorte si hanno i risultati della produttivita' fino a dicembre dell'anno successivo all'anno di immatricolazione:\n",
    "\n",
    "immatricolati coorte 2010 - produttivita' fino a dicembre 2011\n",
    "\n",
    "immatricolati coorte 2011 - produttivita' fino a dicembre 2012\n",
    "\n",
    "immatricolati coorte 2012 - produttivita' fino a dicembre 2013\n",
    "\n",
    "immatricolati coorte 2013 - produttivita' fino a dicembre 2014\n",
    "\n",
    "immatricolati coorte 2014 - produttivita' fino a dicembre 2015\n",
    "\n",
    "immatricolati coorte 2015 - produttivita' fino a dicembre 2016\n",
    "\n",
    "immatricolati coorte 2016 - produttivita' fino a dicembre 2017\n",
    "\n",
    "\n",
    "Nota sui crediti:\n",
    "I Crediti_convoto sono crediti che corrispondono ad esami con attribuzione di voto, eventualmente anche riconoscimenti da altri CdS.\n",
    "I Crediti_totali comprendono i crediti con voto, quelli di esami per i quali non e' previsto un voto e quelli di eventuali \n",
    "riconoscimenti da altri CdS senza riattribuzione del voto.\n",
    "\n",
    "\n",
    "Nota sul test:\n",
    "- negli anni 2010-2015, il test di autovalutazione della Scuola di SMFN era costituito da un questionario con 25 domande: \n",
    "ogni risposta corretta era valutata 1 e ogni risposta sbagliata o non data era valutata 0; il test risultava superato con un punteggio >=12.\n",
    "- dal 2016, il test di autovalutazione della Scuola di Scienze e' costituito da un questionario con 20 domande:\n",
    "ogni risposta corretta viene pesata con valore 1 mentre ogni risposta sbagliata o non data con -0.25; il test risulta superato con punteggio >=8.\n",
    "\n",
    "\n",
    "Legenda per Scuola_provenienza:\n",
    "LS = Liceo Scientifico\n",
    "LC = Liceo Classico\n",
    "IT = Istituto Tecnico Industriale\n",
    "TC = Istituto Tecnico Commerciale\n",
    "IP = Istituto Professionale\n",
    "AL, XX, etc = Altro\n",
    "\n",
    "\n",
    "Legenda per esami primo anno Informatica:\n",
    "ASD Algoritmi e Strutture Dati\n",
    "ARC Architetture degli elaboratori\n",
    "An1 Analisi I: Calcolo Differenziale ed Integrale\n",
    "ING Inglese\n",
    "MDL Matematica Discreta e Logica\n",
    "PRG Programmazione"
   ]
  },
  {
   "cell_type": "code",
   "execution_count": 39,
   "metadata": {},
   "outputs": [],
   "source": [
    "datioutliers=read.csv2(\"C:/Users/matteoInformatica/Documents/Data Mining and Organization/progettoDMO/students.csv\", dec=\".\",sep=\",\")"
   ]
  },
  {
   "cell_type": "code",
   "execution_count": 40,
   "metadata": {},
   "outputs": [
    {
     "data": {
      "text/plain": [
       "     Coorte     Genere    Voto_test     Crediti_totali   Crediti_convoto\n",
       " Min.   :2010   F: 68   Min.   :-1.00   Min.   :  3.00   Min.   : 0.00  \n",
       " 1st Qu.:2012   M:386   1st Qu.:10.00   1st Qu.: 15.00   1st Qu.:12.00  \n",
       " Median :2014           Median :13.00   Median : 27.00   Median :24.00  \n",
       " Mean   :2014           Mean   :13.11   Mean   : 29.25   Mean   :27.09  \n",
       " 3rd Qu.:2015           3rd Qu.:17.00   3rd Qu.: 39.00   3rd Qu.:36.00  \n",
       " Max.   :2016           Max.   :25.00   Max.   :108.00   Max.   :57.00  \n",
       "                                                                        \n",
       "   Voto_medio    Scuola_provenienza      ASD              data_ASD  \n",
       " Min.   : 0.00   IT     :179        Min.   : 0.00   2014-07-17: 27  \n",
       " 1st Qu.:23.00   LS     :145        1st Qu.:21.00   2017-06-12: 23  \n",
       " Median :25.00   TC     : 46        Median :25.00   2017-07-11: 19  \n",
       " Mean   :22.35   XX     : 24        Mean   :21.85   2015-07-09: 15  \n",
       " 3rd Qu.:27.00   AL     : 15        3rd Qu.:28.00   2013-07-11: 14  \n",
       " Max.   :31.00          : 12        Max.   :48.00   2013-09-19: 14  \n",
       "                 (Other): 33                        (Other)   :342  \n",
       "      ARC              data_ARC        PRG              data_PRG  \n",
       " Min.   : 0.00   2014-07-17: 27   Min.   : 0.00   2014-07-17: 27  \n",
       " 1st Qu.: 0.00   2017-06-12: 23   1st Qu.: 0.00   2017-06-12: 23  \n",
       " Median :18.00   2017-07-11: 19   Median :24.00   2017-07-11: 19  \n",
       " Mean   :12.87   2015-07-09: 15   Mean   :17.39   2015-07-09: 15  \n",
       " 3rd Qu.:25.00   2013-07-11: 14   3rd Qu.:27.00   2013-07-11: 14  \n",
       " Max.   :38.00   2013-09-19: 14   Max.   :48.00   2013-09-19: 14  \n",
       "                 (Other)   :342                   (Other)   :342  \n",
       "      AN1              data_AN1        MDL              data_MDL        ING   \n",
       " Min.   : 0.00   2014-07-17: 27   Min.   : 0.00   2014-07-17: 27   Min.   :0  \n",
       " 1st Qu.: 0.00   2017-06-12: 23   1st Qu.: 0.00   2017-06-12: 23   1st Qu.:0  \n",
       " Median :24.00   2017-07-11: 19   Median :18.00   2017-07-11: 19   Median :0  \n",
       " Mean   :19.32   2015-07-09: 15   Mean   :11.81   2015-07-09: 15   Mean   :0  \n",
       " 3rd Qu.:28.00   2013-07-11: 14   3rd Qu.:23.00   2013-07-11: 14   3rd Qu.:0  \n",
       " Max.   :48.00   2013-09-19: 14   Max.   :36.00   2013-09-19: 14   Max.   :0  \n",
       "                 (Other)   :342                   (Other)   :342              \n",
       "       data_ING  \n",
       " 2014-07-17: 27  \n",
       " 2017-06-12: 23  \n",
       " 2017-07-11: 19  \n",
       " 2015-07-09: 15  \n",
       " 2013-07-11: 14  \n",
       " 2013-09-19: 14  \n",
       " (Other)   :342  "
      ]
     },
     "metadata": {},
     "output_type": "display_data"
    }
   ],
   "source": [
    "summary(datioutliers)"
   ]
  },
  {
   "cell_type": "markdown",
   "metadata": {},
   "source": [
    "Osservando le statistiche descritte sopra si deduce che: il voto minimo al test d'ingresso è -1, ciò è dovuto alla differente metodologia di valutazione utilizzata per i test. Il valore massimo dei crediti totali, superiore a 60 (totale dei crediti per gli esami del primo anno),  ci conferma la presenza di esami sostenuti da alcuni studenti provenienti da altri CdL. Inoltre si osserva che ci sono 108-57=51 crediti relativi ad esami che non hanno il voto assegnato. Esistono degli studenti con i campi crediti_convoto e voto_medio a zero, probabilmente questi non hanno sostenuto alcun esame. Si può esservare, infine, che ci sono degli studenti per cui non si conosce la scuola di provenienza."
   ]
  },
  {
   "cell_type": "markdown",
   "metadata": {},
   "source": [
    "*Nota*: L'ultima osservazione ci suggerisce di utilizzare l'attributo scuola di provenienza come classe del dataset, quindi costruire un albero di decisione che sulla base del punteggio al test d'ingresso, del numero di esami sostenuti e del voto medio agli esami ipotizzi la scuola di provenienza di uno studente:"
   ]
  },
  {
   "cell_type": "code",
   "execution_count": 41,
   "metadata": {},
   "outputs": [
    {
     "data": {
      "text/html": [
       "<dl class=dl-horizontal>\n",
       "\t<dt>1</dt>\n",
       "\t\t<dd>12</dd>\n",
       "\t<dt>AL</dt>\n",
       "\t\t<dd>15</dd>\n",
       "\t<dt>IA</dt>\n",
       "\t\t<dd>3</dd>\n",
       "\t<dt>IP</dt>\n",
       "\t\t<dd>10</dd>\n",
       "\t<dt>IPC</dt>\n",
       "\t\t<dd>1</dd>\n",
       "\t<dt>IT</dt>\n",
       "\t\t<dd>179</dd>\n",
       "\t<dt>LC</dt>\n",
       "\t\t<dd>11</dd>\n",
       "\t<dt>LL</dt>\n",
       "\t\t<dd>8</dd>\n",
       "\t<dt>LS</dt>\n",
       "\t\t<dd>145</dd>\n",
       "\t<dt>TC</dt>\n",
       "\t\t<dd>46</dd>\n",
       "\t<dt>XX</dt>\n",
       "\t\t<dd>24</dd>\n",
       "</dl>\n"
      ],
      "text/latex": [
       "\\begin{description*}\n",
       "\\item[1] 12\n",
       "\\item[AL] 15\n",
       "\\item[IA] 3\n",
       "\\item[IP] 10\n",
       "\\item[IPC] 1\n",
       "\\item[IT] 179\n",
       "\\item[LC] 11\n",
       "\\item[LL] 8\n",
       "\\item[LS] 145\n",
       "\\item[TC] 46\n",
       "\\item[XX] 24\n",
       "\\end{description*}\n"
      ],
      "text/markdown": [
       "1\n",
       ":   12AL\n",
       ":   15IA\n",
       ":   3IP\n",
       ":   10IPC\n",
       ":   1IT\n",
       ":   179LC\n",
       ":   11LL\n",
       ":   8LS\n",
       ":   145TC\n",
       ":   46XX\n",
       ":   24\n",
       "\n"
      ],
      "text/plain": [
       "     AL  IA  IP IPC  IT  LC  LL  LS  TC  XX \n",
       " 12  15   3  10   1 179  11   8 145  46  24 "
      ]
     },
     "metadata": {},
     "output_type": "display_data"
    }
   ],
   "source": [
    "summary(datioutliers$Scuola_provenienza)"
   ]
  },
  {
   "cell_type": "code",
   "execution_count": 42,
   "metadata": {},
   "outputs": [],
   "source": [
    "coorte<-datioutliers[,1]\n",
    "genere<-datioutliers[,2]\n",
    "voto_test<-datioutliers[,3]\n",
    "crediti_totali<-datioutliers[,4]\n",
    "crediti<-datioutliers[,5]\n",
    "voto_m<-datioutliers[, 6]\n",
    "scuola<-datioutliers[,7]\n",
    "asd<-datioutliers[,8]\n",
    "dataASD<-datioutliers[,9]\n",
    "arc<-datioutliers[,10]\n",
    "dataARC<-datioutliers[,11]\n",
    "prg<-datioutliers[,12]\n",
    "dataPRG<-datioutliers[,13]\n",
    "an1<-datioutliers[,14]\n",
    "dataAN1<-datioutliers[,15]\n",
    "mdl<-datioutliers[,16]\n",
    "dataMDL<-datioutliers[,17]\n",
    "ing<-datioutliers[,18]\n",
    "dataING<-datioutliers[,19]\n"
   ]
  },
  {
   "cell_type": "code",
   "execution_count": 52,
   "metadata": {},
   "outputs": [],
   "source": [
    "sex<-as.numeric(genere)\n",
    "school<-as.numeric(scuola)"
   ]
  },
  {
   "cell_type": "code",
   "execution_count": 48,
   "metadata": {},
   "outputs": [
    {
     "data": {
      "text/html": [
       "-0.0097557060835555"
      ],
      "text/latex": [
       "-0.0097557060835555"
      ],
      "text/markdown": [
       "-0.0097557060835555"
      ],
      "text/plain": [
       "[1] -0.009755706"
      ]
     },
     "metadata": {},
     "output_type": "display_data"
    }
   ],
   "source": []
  },
  {
   "cell_type": "code",
   "execution_count": null,
   "metadata": {},
   "outputs": [],
   "source": []
  }
 ],
 "metadata": {
  "kernelspec": {
   "display_name": "R",
   "language": "R",
   "name": "ir"
  },
  "language_info": {
   "codemirror_mode": "r",
   "file_extension": ".r",
   "mimetype": "text/x-r-source",
   "name": "R",
   "pygments_lexer": "r",
   "version": "3.5.1"
  }
 },
 "nbformat": 4,
 "nbformat_minor": 2
}
