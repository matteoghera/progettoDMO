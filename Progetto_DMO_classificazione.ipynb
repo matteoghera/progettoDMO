{
 "cells": [
  {
   "cell_type": "markdown",
   "metadata": {},
   "source": [
    "# Notebook sulla classificazione con gli alberi di classificazione"
   ]
  },
  {
   "cell_type": "markdown",
   "metadata": {},
   "source": [
    ">In questo notebook continuamo la nostra analisi dati sul dataset prendendo alcuni risultati ottenuti dalla cluster analysis.\n",
    "L'idea è quella di costruire un albero di decisione che replichi i risultati ottenuti al punto precedente.\n",
    "Anche in questo caso cominciamo con importare gli strumenti necessari come **Sklearn** dove useremo l'oggetto di tipo DecisionTreeClassifier per costruire un albero di decisione e alcuni strumenti per visualizzare l'albero e la matrice di confusione.\n",
    "Non usiamo particolari strategie per la divisione del dataset, quindi riordiniamo i dati del dataset in modo casuale e li ripartizioniamo  al 70% per il training set e il restante 30% per il test set."
   ]
  },
  {
   "cell_type": "code",
   "execution_count": 1,
   "metadata": {},
   "outputs": [],
   "source": [
    "import pandas as pd\n",
    "import numpy as np\n",
    "from sklearn.model_selection import train_test_split\n",
    "import matplotlib.pyplot as plt \n",
    "from sklearn.metrics import accuracy_score, recall_score, precision_score, f1_score, log_loss, confusion_matrix\n",
    "from sklearn.tree import DecisionTreeClassifier, export_graphviz\n",
    "import itertools\n",
    "import graphviz \n",
    "from sklearn import tree\n",
    "from sklearn.preprocessing import StandardScaler\n",
    "#from scikitplot.metrics import plot_confusion_matrix\n",
    "%matplotlib inline"
   ]
  },
  {
   "cell_type": "code",
   "execution_count": 2,
   "metadata": {},
   "outputs": [
    {
     "name": "stdout",
     "output_type": "stream",
     "text": [
      "C:\\Users\\matte\\dmo_progetto\\data\\interim\\datasetClassification.csv\n",
      "C:\\Users\\matte\\dmo_progetto\\data\\interim\\datasetClassification2.csv\n",
      "C:\\Users\\matte\\dmo_progetto\\data\\interim\\datasetClassificazione.csv\n"
     ]
    }
   ],
   "source": [
    "from path import Path\n",
    "PROJ_DIR = Path().getcwd().parent\n",
    "DATA_DIR = PROJ_DIR / \"data\"\n",
    "INTERIM_DIR = DATA_DIR / \"interim\"\n",
    "filename1 = INTERIM_DIR / \"datasetClassification.csv\"\n",
    "filename2 = INTERIM_DIR / \"datasetClassification2.csv\"\n",
    "filename3 = INTERIM_DIR / \"datasetClassificazione.csv\"\n",
    "filename4 = INTERIM_DIR / \"datasetUnione.csv\"\n",
    "print(filename1)\n",
    "print(filename2)\n",
    "print(filename3)"
   ]
  },
  {
   "cell_type": "code",
   "execution_count": 3,
   "metadata": {},
   "outputs": [],
   "source": [
    "ds = pd.read_csv(filename1)"
   ]
  },
  {
   "cell_type": "markdown",
   "metadata": {},
   "source": [
    "## Definizione dei metodi di classificazione"
   ]
  },
  {
   "cell_type": "markdown",
   "metadata": {},
   "source": [
    ">Abbiamo scritto un metodo che costruisce un albero di decisione usando il  DecisionTreeClassifier di Sklearn, che utilizza il metodo CART.\n",
    "\n",
    ">L'albero prende come parametri:\n",
    "* la misura di impurità (gini, entropia, misclassification)\n",
    "* il numero di livelli per limitare il problema dell'overfitting\n",
    "* le eticchete di classe\n",
    "* il training e il test set\n",
    "* la variabile target per il training e il test set\n",
    "\n",
    "\n",
    "> Sulla base di questi elementi il DecisionTreeClassifier costruisce un albero, dopodiché lo valutiamo e lo disegnamo con la libreria **graphviz**"
   ]
  },
  {
   "cell_type": "code",
   "execution_count": 28,
   "metadata": {},
   "outputs": [],
   "source": [
    "def DecisionTree(measure,n_levels, type_class, dataset, class_labels, target_name, training_set, target_train, test_set, target_test):\n",
    "    decisionTree = DecisionTreeClassifier(criterion=measure, max_depth = n_levels)\n",
    "    #print (target_train)\n",
    "    decisionTree.fit(training_set, target_train)\n",
    "\n",
    "    #predizione sulla variabile target sia per il training set e test set\n",
    "    target_train_pred = decisionTree.predict(training_set) # risposte per la variabile target con il traning set\n",
    "    target_test_pred = decisionTree.predict(test_set)  # risposte per la variabile target con il test set\n",
    "    \n",
    "    #TreeEval(target_train, target_test,target_train_pred, target_test_pred, class_labels)\n",
    "    if(type_class==0):\n",
    "        TreeEval(target_train, target_test,target_train_pred, target_test_pred, class_labels) #valutazione del modello\n",
    "    else:\n",
    "        TreeEvalBinary(target_train, target_test,target_train_pred, target_test_pred,class_labels)\n",
    "    #valutazione del modello\n",
    "    #disegno dell'albero\n",
    "    dotfile = open(\"tree.dot\", 'w')\n",
    "    #export_graphviz(tree, out_file = dotfile, feature_names = dataset.columns.drop(target_name),class_names=class_labels, rounded=True, filled=True)            \n",
    "    #dotfile.close()\n",
    "    dot_data = tree.export_graphviz(decisionTree, out_file=None, \n",
    "                    feature_names=dataset.columns.drop(target_name),  \n",
    "                    class_names=class_labels,  \n",
    "                  filled=True, rounded=True,  \n",
    "                 special_characters=True)  \n",
    "\n",
    "    graph = graphviz.Source(dot_data)  \n",
    "    return graph \n",
    "    "
   ]
  },
  {
   "cell_type": "markdown",
   "metadata": {},
   "source": [
    "# Definizione dei metodi di valutazione"
   ]
  },
  {
   "cell_type": "markdown",
   "metadata": {},
   "source": [
    "Questo metodo valuta l'albero di decisione.\n",
    "**TreeEval** valuta un albero di decisione nel caso non sia usato per un problema di classificazione binaria, in tal caso verrà calcolato sola misura della **Accuracy** e la **matrice di confunsione** per il **training e test set.**"
   ]
  },
  {
   "cell_type": "code",
   "execution_count": 5,
   "metadata": {},
   "outputs": [],
   "source": [
    "def TreeEval(targert_train, target_set,target_train_pred, target_test_pred, class_labels):\n",
    "    accuracy_train = accuracy_score(targert_train,  target_train_pred)\n",
    "    accuracy_test = accuracy_score(target_set, target_test_pred)\n",
    "    print(\"ACCURACY: TRAIN=%.4f TEST=%.4f\" % (accuracy_train,accuracy_test))\n",
    "    plot_confusion_matrix(confusion_matrix(targert_train, target_train_pred),class_labels,\n",
    "                          title=\"Matrice di confusione per il Training Set\",normalize=False)\n",
    "    plot_confusion_matrix(confusion_matrix(target_set, target_test_pred), class_labels,\n",
    "                          title=\"Matrice di confusione per il Test Set\",normalize=False)\n",
    "   "
   ]
  },
  {
   "cell_type": "code",
   "execution_count": 22,
   "metadata": {},
   "outputs": [],
   "source": [
    "def TreeEvalBinary(targert_train, target_set,target_train_pred, target_test_pred,class_labels):\n",
    "    accuracy_train = accuracy_score(targert_train,  target_train_pred)\n",
    "    accuracy_test = accuracy_score(target_set, target_test_pred)\n",
    "    recall_train = recall_score(targert_train,  target_train_pred)\n",
    "    recall_test = recall_score(target_set, target_test_pred)\n",
    "    precision_train = recall_score(targert_train,  target_train_pred)\n",
    "    precision_test = recall_score(target_set, target_test_pred)\n",
    "    f1_train = f1_score(targert_train,  target_train_pred)\n",
    "    f1_test = f1_score(target_set, target_test_pred)\n",
    "    print(\"ACCURACY: TRAIN=%.4f TEST=%.4f\" % (accuracy_train,accuracy_test))\n",
    "    print(\"RECALL: TRAIN=%.4f TEST=%.4f\" % (recall_train, recall_test))\n",
    "    print(\"PRECISION: TRAIN=%.4f TEST=%.4f\" % (precision_train, precision_test))\n",
    "    print(\"F1_SCORE: TRAIN=%.4f TEST=%.4f\" % (f1_train, f1_test))\n",
    "    plot_confusion_matrix(confusion_matrix(targert_train, target_train_pred),class_labels,\n",
    "                          title=\"Matrice di confusione per il Training Set\",normalize=False)\n",
    "    plot_confusion_matrix(confusion_matrix(target_set, target_test_pred), class_labels,\n",
    "                          title=\"Matrice di confusione per il Test Set\",normalize=False)"
   ]
  },
  {
   "cell_type": "code",
   "execution_count": 6,
   "metadata": {
    "collapsed": true
   },
   "outputs": [],
   "source": [
    "#data[\"Scuola_provenienza\"] = data[\"Scuola_provenienza\"].cat.codes astype('category')\n",
    "#ds[\"Genere\"] = ds[\"Genere\"].astype('category')\n",
    "#ds[\"Genere\"] = ds[\"Genere\"].cat.codes\n",
    "dataset = ds.drop(\"cluster\", axis=1).values\n",
    "target = ds[\"cluster\"].values"
   ]
  },
  {
   "cell_type": "markdown",
   "metadata": {},
   "source": [
    "# Matrice di confusione"
   ]
  },
  {
   "cell_type": "code",
   "execution_count": 7,
   "metadata": {
    "collapsed": true
   },
   "outputs": [],
   "source": [
    "def plot_confusion_matrix(cm,target_names,title='Confusion matrix',cmap=None,normalize=True):\n",
    "    \"\"\"\n",
    "    given a sklearn confusion matrix (cm), make a nice plot\n",
    "\n",
    "    Arguments\n",
    "    ---------\n",
    "    cm:           confusion matrix from sklearn.metrics.confusion_matrix\n",
    "\n",
    "    target_names: given classification classes such as [0, 1, 2]\n",
    "                  the class names, for example: ['high', 'medium', 'low']\n",
    "\n",
    "    title:        the text to display at the top of the matrix\n",
    "\n",
    "    cmap:         the gradient of the values displayed from matplotlib.pyplot.cm\n",
    "                  see http://matplotlib.org/examples/color/colormaps_reference.html\n",
    "                  plt.get_cmap('jet') or plt.cm.Blues\n",
    "\n",
    "    normalize:    If False, plot the raw numbers\n",
    "                  If True, plot the proportions\n",
    "\n",
    "    Usage\n",
    "    -----\n",
    "    plot_confusion_matrix(cm           = cm,                  # confusion matrix created by\n",
    "                                                              # sklearn.metrics.confusion_matrix\n",
    "                          normalize    = True,                # show proportions\n",
    "                          target_names = y_labels_vals,       # list of names of the classes\n",
    "                          title        = best_estimator_name) # title of graph\n",
    "\n",
    "    Citiation\n",
    "    ---------\n",
    "    http://scikit-learn.org/stable/auto_examples/model_selection/plot_confusion_matrix.html\n",
    "\n",
    "    \"\"\"\n",
    "    accuracy = np.trace(cm) / float(np.sum(cm))\n",
    "    misclass = 1 - accuracy\n",
    "\n",
    "    if cmap is None:\n",
    "        cmap = plt.get_cmap('Blues')\n",
    "\n",
    "    plt.figure(figsize=(8, 6))\n",
    "    plt.imshow(cm, interpolation='nearest', cmap=cmap)\n",
    "    plt.title(title)\n",
    "    plt.colorbar()\n",
    "\n",
    "    if target_names is not None:\n",
    "        tick_marks = np.arange(len(target_names))\n",
    "        plt.xticks(tick_marks, target_names, rotation=45)\n",
    "        plt.yticks(tick_marks, target_names)\n",
    "\n",
    "    if normalize:\n",
    "        cm = cm.astype('float') / cm.sum(axis=1)[:, np.newaxis]\n",
    "\n",
    "\n",
    "    thresh = cm.max() / 1.5 if normalize else cm.max() / 2\n",
    "    for i, j in itertools.product(range(cm.shape[0]), range(cm.shape[1])):\n",
    "        if normalize:\n",
    "            plt.text(j, i, \"{:0.4f}\".format(cm[i, j]),\n",
    "                     horizontalalignment=\"center\",\n",
    "                     color=\"white\" if cm[i, j] > thresh else \"black\")\n",
    "        else:\n",
    "            plt.text(j, i, \"{:,}\".format(cm[i, j]),\n",
    "                     horizontalalignment=\"center\",\n",
    "                     color=\"white\" if cm[i, j] > thresh else \"black\")\n",
    "\n",
    "\n",
    "    plt.tight_layout()\n",
    "    plt.ylabel('True label')\n",
    "    plt.xlabel('Predicted label\\naccuracy={:0.4f}; misclass={:0.4f}'.format(accuracy, misclass))\n",
    "    plt.show()"
   ]
  },
  {
   "cell_type": "markdown",
   "metadata": {},
   "source": [
    "## Classificazione carriera studenti in base a background"
   ]
  },
  {
   "cell_type": "markdown",
   "metadata": {},
   "source": [
    ">Abbiamo costruito l'albero di decisione usando come misura di impurità il **gini**, usando le colonne: **coorte, scuola di provenienza, genere e voto_test**, la variabile di risposta è **cluster** che rappresenta i risultati ottenuti del clustering gerarchico con il metodo average link usando solo gli esami.\n",
    "Ricordiamo che il clustering aveva trovato i seguenti gruppi di studenti:\n",
    "* nel cluster 0 ci sono gli studenti che hanno dato tutti gli esami\n",
    "* nel cluster 1 ci sono gli studenti che hanno dato ASD e PRG\n",
    "* nel cluster 2 ci sono gli studenti che non hanno dato esami\n",
    "* nel cluster 3 ci sono gli studenti che hanno dato solo ASD\n",
    "* nel cluster 4 ci sono gli studenti che hanno dato ASD,ARC e AN1\n",
    "\n",
    ">L'albero dovrebbe cercare di individuare a quale cluster appartiene uno studente conoscendo i suoi dati di background."
   ]
  },
  {
   "cell_type": "code",
   "execution_count": 8,
   "metadata": {
    "collapsed": true
   },
   "outputs": [],
   "source": [
    "ds = pd.read_csv(filename1)\n",
    "training_set, test_set, target_train, target_test = train_test_split(dataset, target, test_size=0.3, random_state=42)\n",
    "dataset = ds.drop(\"cluster\", axis=1).values\n",
    "target = ds[\"cluster\"].values"
   ]
  },
  {
   "cell_type": "code",
   "execution_count": 9,
   "metadata": {
    "collapsed": true
   },
   "outputs": [],
   "source": [
    "#class_names = [\"AL\", \"IA\",\"IP\", \"IPC\", \"IT\",\"LC\",\"LL\",\"LS\",\"TC\",\"XX\"]\n",
    "class_names = [\"0\",\"1\",\"2\",\"3\",\"4\"]"
   ]
  },
  {
   "cell_type": "code",
   "execution_count": 10,
   "metadata": {},
   "outputs": [
    {
     "name": "stdout",
     "output_type": "stream",
     "text": [
      "ACCURACY: TRAIN=0.6751 TEST=0.5735\n"
     ]
    },
    {
     "data": {
      "image/png": "[encoded data removed]",
      "text/plain": [
       "<Figure size 576x432 with 2 Axes>"
      ]
     },
     "metadata": {
      "needs_background": "light"
     },
     "output_type": "display_data"
    },
    {
     "data": {
      "image/png": "[encoded data removed]",
      "text/plain": [
       "<Figure size 576x432 with 2 Axes>"
      ]
     },
     "metadata": {
      "needs_background": "light"
     },
     "output_type": "display_data"
    }
   ],
   "source": [
    "DecisionTree(\"gini\",4,0, ds,class_names,\"cluster\", training_set, target_train, test_set, target_test)"
   ]
  },
  {
   "cell_type": "markdown",
   "metadata": {},
   "source": [
    "## Commento sui risultati ottenuti"
   ]
  },
  {
   "cell_type": "markdown",
   "metadata": {},
   "source": [
    ">Con questa configurazione abbiamo ottenuto una accuracy del 68% per il training set mentre del 57% per il test set.\n",
    "Dalle matrici di confusione possiamo osservare che il modello classifica abbastanza accuratamente gli studenti del cluster 0, mentre ottiene pochi risultati corretti riguardo gli altri cluster.\n",
    "In generale il modello tende a classificare la maggior parte degli studenti nel cluster 0, essendo molto più grande.\n",
    "Il modello non è quindi in grado di predire la carriera degli studenti."
   ]
  },
  {
   "cell_type": "markdown",
   "metadata": {},
   "source": [
    "## Altro esempio di classificazione"
   ]
  },
  {
   "cell_type": "code",
   "execution_count": 30,
   "metadata": {},
   "outputs": [],
   "source": [
    "#ds2 = pd.read_csv(filename2)\n",
    "#class_names2 = [\"0\",\"1\",\"2\",\"3\",\"4\",\"5\"]\n",
    "#dataset2 = ds2.drop(\"cluster\", axis=1).values\n",
    "#target2 = ds2[\"cluster\"].values"
   ]
  },
  {
   "cell_type": "code",
   "execution_count": 38,
   "metadata": {},
   "outputs": [],
   "source": [
    "#training_set2, test_set2, target_train2, target_test2 = train_test_split(dataset2, target2, test_size=0.3, random_state=42)\n",
    "#DecisionTree(\"gini\", 4,0, ds2,class_names2,\"cluster\", training_set2, target_train2, test_set2, target_test2)"
   ]
  },
  {
   "cell_type": "markdown",
   "metadata": {},
   "source": [
    "## Previsione svolgimento esame di MDL"
   ]
  },
  {
   "cell_type": "markdown",
   "metadata": {},
   "source": [
    ">Dalle operazioni di clustering e analisi associativa abbiamo potuto osservare che l'esame di MDL è quello a cui gli studenti danno priorità minore.\n",
    "In questa sezione verifichiao se è possibile predire se uno studente ha dato l'esame di MDL, conoscendo altri dati della sua carriera. In particolare abbiamo preso in considerazione le variabili **Coorte**, **Voto_test**, **ASD**, e **AN1**."
   ]
  },
  {
   "cell_type": "code",
   "execution_count": 13,
   "metadata": {},
   "outputs": [],
   "source": [
    "#ds3 = pd.read_csv(filename3)\n",
    "#dataset3 = ds3.drop(\"Scuola_provenienza\", axis=1).values\n",
    "#target3 = ds3[\"Scuola_provenienza\"].values\n",
    "#ds3[\"Genere\"] = ds3[\"Genere\"].astype('category')\n",
    "#ds3[\"Genere\"] = ds3[\"Genere\"].cat.codes\n",
    "#class_names3 = [\"AL\", \"IA\",\"IP\", \"IPC\", \"IT\",\"LC\",\"LL\",\"LS\",\"TC\",\"XX\"]\n",
    "#training_set3, test_set3, target_train3, target_test3 = train_test_split(dataset3, target3, test_size=0.3, random_state=42)\n",
    "#DecisionTree(\"gini\", 3,0, ds3,class_names3,\"Scuola_provenienza\", training_set3, target_train3, test_set3, target_test3)"
   ]
  },
  {
   "cell_type": "code",
   "execution_count": 36,
   "metadata": {},
   "outputs": [
    {
     "name": "stderr",
     "output_type": "stream",
     "text": [
      "C:\\Users\\matte\\Anaconda3\\lib\\site-packages\\ipykernel_launcher.py:6: SettingWithCopyWarning: \n",
      "A value is trying to be set on a copy of a slice from a DataFrame\n",
      "\n",
      "See the caveats in the documentation: http://pandas.pydata.org/pandas-docs/stable/indexing.html#indexing-view-versus-copy\n",
      "  \n",
      "C:\\Users\\matte\\Anaconda3\\lib\\site-packages\\ipykernel_launcher.py:8: SettingWithCopyWarning: \n",
      "A value is trying to be set on a copy of a slice from a DataFrame\n",
      "\n",
      "See the caveats in the documentation: http://pandas.pydata.org/pandas-docs/stable/indexing.html#indexing-view-versus-copy\n",
      "  \n"
     ]
    }
   ],
   "source": [
    "ds4 = pd.read_csv(filename4)\n",
    "ds4 = ds4[[\"Coorte\", \"Voto_test\", \"ASD\", \"AN1\", \"MDL\"]]\n",
    "shape = ds4.shape\n",
    "for i in range(0,shape[0]):\n",
    "    if(ds4[\"MDL\"][i]==0):\n",
    "        ds4[\"MDL\"][i]=-1\n",
    "    else:\n",
    "        ds4[\"MDL\"][i]=1"
   ]
  },
  {
   "cell_type": "code",
   "execution_count": 37,
   "metadata": {},
   "outputs": [
    {
     "name": "stdout",
     "output_type": "stream",
     "text": [
      "ACCURACY: TRAIN=0.8644 TEST=0.7647\n",
      "RECALL: TRAIN=0.8861 TEST=0.7361\n",
      "PRECISION: TRAIN=0.8861 TEST=0.7361\n",
      "F1_SCORE: TRAIN=0.8669 TEST=0.7681\n"
     ]
    },
    {
     "data": {
      "image/png": "[encoded data removed]",
      "text/plain": [
       "<Figure size 576x432 with 2 Axes>"
      ]
     },
     "metadata": {
      "needs_background": "light"
     },
     "output_type": "display_data"
    },
    {
     "data": {
      "image/png": "[encoded data removed]",
      "text/plain": [
       "<Figure size 576x432 with 2 Axes>"
      ]
     },
     "metadata": {
      "needs_background": "light"
     },
     "output_type": "display_data"
    },
    {
     "data": {
      "image/svg+xml": [
       "<?xml version=\"1.0\" encoding=\"UTF-8\" standalone=\"no\"?>\r\n",
       "<!DOCTYPE svg PUBLIC \"-//W3C//DTD SVG 1.1//EN\"\r\n",
       " \"http://www.w3.org/Graphics/SVG/1.1/DTD/svg11.dtd\">\r\n",
       "<!-- Generated by graphviz version 2.38.0 (20140413.2041)\r\n",
       " -->\r\n",
       "<!-- Title: Tree Pages: 1 -->\r\n",
       "<svg width=\"1418pt\" height=\"552pt\"\r\n",
       " viewBox=\"0.00 0.00 1418.00 552.00\" xmlns=\"http://www.w3.org/2000/svg\" xmlns:xlink=\"http://www.w3.org/1999/xlink\">\r\n",
       "<g id=\"graph0\" class=\"graph\" transform=\"scale(1 1) rotate(0) translate(4 548)\">\r\n",
       "<title>Tree</title>\r\n",
       "<polygon fill=\"white\" stroke=\"none\" points=\"-4,4 -4,-548 1414,-548 1414,4 -4,4\"/>\r\n",
       "<!-- 0 -->\r\n",
       "<g id=\"node1\" class=\"node\"><title>0</title>\r\n",
       "<path fill=\"#e58139\" fill-opacity=\"0.007843\" stroke=\"black\" d=\"M546.5,-544C546.5,-544 440.5,-544 440.5,-544 434.5,-544 428.5,-538 428.5,-532 428.5,-532 428.5,-473 428.5,-473 428.5,-467 434.5,-461 440.5,-461 440.5,-461 546.5,-461 546.5,-461 552.5,-461 558.5,-467 558.5,-473 558.5,-473 558.5,-532 558.5,-532 558.5,-538 552.5,-544 546.5,-544\"/>\r\n",
       "<text text-anchor=\"start\" x=\"457.5\" y=\"-528.8\" font-family=\"Helvetica,sans-Serif\" font-size=\"14.00\">AN1 ≤ 20.5</text>\r\n",
       "<text text-anchor=\"start\" x=\"464.5\" y=\"-513.8\" font-family=\"Helvetica,sans-Serif\" font-size=\"14.00\">gini = 0.5</text>\r\n",
       "<text text-anchor=\"start\" x=\"446\" y=\"-498.8\" font-family=\"Helvetica,sans-Serif\" font-size=\"14.00\">samples = 317</text>\r\n",
       "<text text-anchor=\"start\" x=\"436.5\" y=\"-483.8\" font-family=\"Helvetica,sans-Serif\" font-size=\"14.00\">value = [159, 158]</text>\r\n",
       "<text text-anchor=\"start\" x=\"464.5\" y=\"-468.8\" font-family=\"Helvetica,sans-Serif\" font-size=\"14.00\">class = 0</text>\r\n",
       "</g>\r\n",
       "<!-- 1 -->\r\n",
       "<g id=\"node2\" class=\"node\"><title>1</title>\r\n",
       "<path fill=\"#e58139\" fill-opacity=\"0.854902\" stroke=\"black\" d=\"M403,-425C403,-425 314,-425 314,-425 308,-425 302,-419 302,-413 302,-413 302,-354 302,-354 302,-348 308,-342 314,-342 314,-342 403,-342 403,-342 409,-342 415,-348 415,-354 415,-354 415,-413 415,-413 415,-419 409,-425 403,-425\"/>\r\n",
       "<text text-anchor=\"start\" x=\"321.5\" y=\"-409.8\" font-family=\"Helvetica,sans-Serif\" font-size=\"14.00\">ASD ≤ 22.5</text>\r\n",
       "<text text-anchor=\"start\" x=\"321\" y=\"-394.8\" font-family=\"Helvetica,sans-Serif\" font-size=\"14.00\">gini = 0.221</text>\r\n",
       "<text text-anchor=\"start\" x=\"311\" y=\"-379.8\" font-family=\"Helvetica,sans-Serif\" font-size=\"14.00\">samples = 103</text>\r\n",
       "<text text-anchor=\"start\" x=\"310\" y=\"-364.8\" font-family=\"Helvetica,sans-Serif\" font-size=\"14.00\">value = [90, 13]</text>\r\n",
       "<text text-anchor=\"start\" x=\"329.5\" y=\"-349.8\" font-family=\"Helvetica,sans-Serif\" font-size=\"14.00\">class = 0</text>\r\n",
       "</g>\r\n",
       "<!-- 0&#45;&gt;1 -->\r\n",
       "<g id=\"edge1\" class=\"edge\"><title>0&#45;&gt;1</title>\r\n",
       "<path fill=\"none\" stroke=\"black\" d=\"M446.662,-460.907C435.772,-451.469 424.088,-441.343 412.903,-431.649\"/>\r\n",
       "<polygon fill=\"black\" stroke=\"black\" points=\"415.104,-428.925 405.255,-425.021 410.519,-434.215 415.104,-428.925\"/>\r\n",
       "<text text-anchor=\"middle\" x=\"407.036\" y=\"-446.257\" font-family=\"Helvetica,sans-Serif\" font-size=\"14.00\">True</text>\r\n",
       "</g>\r\n",
       "<!-- 10 -->\r\n",
       "<g id=\"node11\" class=\"node\"><title>10</title>\r\n",
       "<path fill=\"#399de5\" fill-opacity=\"0.525490\" stroke=\"black\" d=\"M737.5,-425C737.5,-425 639.5,-425 639.5,-425 633.5,-425 627.5,-419 627.5,-413 627.5,-413 627.5,-354 627.5,-354 627.5,-348 633.5,-342 639.5,-342 639.5,-342 737.5,-342 737.5,-342 743.5,-342 749.5,-348 749.5,-354 749.5,-354 749.5,-413 749.5,-413 749.5,-419 743.5,-425 737.5,-425\"/>\r\n",
       "<text text-anchor=\"start\" x=\"636.5\" y=\"-409.8\" font-family=\"Helvetica,sans-Serif\" font-size=\"14.00\">Coorte ≤ 2013.5</text>\r\n",
       "<text text-anchor=\"start\" x=\"651\" y=\"-394.8\" font-family=\"Helvetica,sans-Serif\" font-size=\"14.00\">gini = 0.437</text>\r\n",
       "<text text-anchor=\"start\" x=\"641\" y=\"-379.8\" font-family=\"Helvetica,sans-Serif\" font-size=\"14.00\">samples = 214</text>\r\n",
       "<text text-anchor=\"start\" x=\"635.5\" y=\"-364.8\" font-family=\"Helvetica,sans-Serif\" font-size=\"14.00\">value = [69, 145]</text>\r\n",
       "<text text-anchor=\"start\" x=\"659.5\" y=\"-349.8\" font-family=\"Helvetica,sans-Serif\" font-size=\"14.00\">class = 1</text>\r\n",
       "</g>\r\n",
       "<!-- 0&#45;&gt;10 -->\r\n",
       "<g id=\"edge10\" class=\"edge\"><title>0&#45;&gt;10</title>\r\n",
       "<path fill=\"none\" stroke=\"black\" d=\"M558.703,-462.378C577.906,-450.856 598.993,-438.204 618.484,-426.509\"/>\r\n",
       "<polygon fill=\"black\" stroke=\"black\" points=\"620.541,-429.357 627.315,-421.211 616.939,-423.355 620.541,-429.357\"/>\r\n",
       "<text text-anchor=\"middle\" x=\"621.252\" y=\"-441.765\" font-family=\"Helvetica,sans-Serif\" font-size=\"14.00\">False</text>\r\n",
       "</g>\r\n",
       "<!-- 2 -->\r\n",
       "<g id=\"node3\" class=\"node\"><title>2</title>\r\n",
       "<path fill=\"#e58139\" stroke=\"black\" d=\"M272,-298.5C272,-298.5 191,-298.5 191,-298.5 185,-298.5 179,-292.5 179,-286.5 179,-286.5 179,-242.5 179,-242.5 179,-236.5 185,-230.5 191,-230.5 191,-230.5 272,-230.5 272,-230.5 278,-230.5 284,-236.5 284,-242.5 284,-242.5 284,-286.5 284,-286.5 284,-292.5 278,-298.5 272,-298.5\"/>\r\n",
       "<text text-anchor=\"start\" x=\"202.5\" y=\"-283.3\" font-family=\"Helvetica,sans-Serif\" font-size=\"14.00\">gini = 0.0</text>\r\n",
       "<text text-anchor=\"start\" x=\"188\" y=\"-268.3\" font-family=\"Helvetica,sans-Serif\" font-size=\"14.00\">samples = 50</text>\r\n",
       "<text text-anchor=\"start\" x=\"187\" y=\"-253.3\" font-family=\"Helvetica,sans-Serif\" font-size=\"14.00\">value = [50, 0]</text>\r\n",
       "<text text-anchor=\"start\" x=\"202.5\" y=\"-238.3\" font-family=\"Helvetica,sans-Serif\" font-size=\"14.00\">class = 0</text>\r\n",
       "</g>\r\n",
       "<!-- 1&#45;&gt;2 -->\r\n",
       "<g id=\"edge2\" class=\"edge\"><title>1&#45;&gt;2</title>\r\n",
       "<path fill=\"none\" stroke=\"black\" d=\"M314.438,-341.907C301.622,-330.101 287.637,-317.217 274.864,-305.45\"/>\r\n",
       "<polygon fill=\"black\" stroke=\"black\" points=\"277.228,-302.868 267.502,-298.667 272.485,-308.017 277.228,-302.868\"/>\r\n",
       "</g>\r\n",
       "<!-- 3 -->\r\n",
       "<g id=\"node4\" class=\"node\"><title>3</title>\r\n",
       "<path fill=\"#e58139\" fill-opacity=\"0.674510\" stroke=\"black\" d=\"M403,-306C403,-306 314,-306 314,-306 308,-306 302,-300 302,-294 302,-294 302,-235 302,-235 302,-229 308,-223 314,-223 314,-223 403,-223 403,-223 409,-223 415,-229 415,-235 415,-235 415,-294 415,-294 415,-300 409,-306 403,-306\"/>\r\n",
       "<text text-anchor=\"start\" x=\"326.5\" y=\"-290.8\" font-family=\"Helvetica,sans-Serif\" font-size=\"14.00\">AN1 ≤ 9.0</text>\r\n",
       "<text text-anchor=\"start\" x=\"325\" y=\"-275.8\" font-family=\"Helvetica,sans-Serif\" font-size=\"14.00\">gini = 0.37</text>\r\n",
       "<text text-anchor=\"start\" x=\"315\" y=\"-260.8\" font-family=\"Helvetica,sans-Serif\" font-size=\"14.00\">samples = 53</text>\r\n",
       "<text text-anchor=\"start\" x=\"310\" y=\"-245.8\" font-family=\"Helvetica,sans-Serif\" font-size=\"14.00\">value = [40, 13]</text>\r\n",
       "<text text-anchor=\"start\" x=\"329.5\" y=\"-230.8\" font-family=\"Helvetica,sans-Serif\" font-size=\"14.00\">class = 0</text>\r\n",
       "</g>\r\n",
       "<!-- 1&#45;&gt;3 -->\r\n",
       "<g id=\"edge3\" class=\"edge\"><title>1&#45;&gt;3</title>\r\n",
       "<path fill=\"none\" stroke=\"black\" d=\"M358.5,-341.907C358.5,-333.649 358.5,-324.864 358.5,-316.302\"/>\r\n",
       "<polygon fill=\"black\" stroke=\"black\" points=\"362,-316.021 358.5,-306.021 355,-316.021 362,-316.021\"/>\r\n",
       "</g>\r\n",
       "<!-- 4 -->\r\n",
       "<g id=\"node5\" class=\"node\"><title>4</title>\r\n",
       "<path fill=\"#e58139\" fill-opacity=\"0.807843\" stroke=\"black\" d=\"M224.5,-187C224.5,-187 118.5,-187 118.5,-187 112.5,-187 106.5,-181 106.5,-175 106.5,-175 106.5,-116 106.5,-116 106.5,-110 112.5,-104 118.5,-104 118.5,-104 224.5,-104 224.5,-104 230.5,-104 236.5,-110 236.5,-116 236.5,-116 236.5,-175 236.5,-175 236.5,-181 230.5,-187 224.5,-187\"/>\r\n",
       "<text text-anchor=\"start\" x=\"114.5\" y=\"-171.8\" font-family=\"Helvetica,sans-Serif\" font-size=\"14.00\">Voto_test ≤ 1.873</text>\r\n",
       "<text text-anchor=\"start\" x=\"134\" y=\"-156.8\" font-family=\"Helvetica,sans-Serif\" font-size=\"14.00\">gini = 0.272</text>\r\n",
       "<text text-anchor=\"start\" x=\"128\" y=\"-141.8\" font-family=\"Helvetica,sans-Serif\" font-size=\"14.00\">samples = 37</text>\r\n",
       "<text text-anchor=\"start\" x=\"127\" y=\"-126.8\" font-family=\"Helvetica,sans-Serif\" font-size=\"14.00\">value = [31, 6]</text>\r\n",
       "<text text-anchor=\"start\" x=\"142.5\" y=\"-111.8\" font-family=\"Helvetica,sans-Serif\" font-size=\"14.00\">class = 0</text>\r\n",
       "</g>\r\n",
       "<!-- 3&#45;&gt;4 -->\r\n",
       "<g id=\"edge4\" class=\"edge\"><title>3&#45;&gt;4</title>\r\n",
       "<path fill=\"none\" stroke=\"black\" d=\"M301.886,-228.079C283.988,-216.88 263.942,-204.338 245.038,-192.51\"/>\r\n",
       "<polygon fill=\"black\" stroke=\"black\" points=\"246.778,-189.471 236.444,-187.134 243.065,-195.405 246.778,-189.471\"/>\r\n",
       "</g>\r\n",
       "<!-- 7 -->\r\n",
       "<g id=\"node8\" class=\"node\"><title>7</title>\r\n",
       "<path fill=\"#e58139\" fill-opacity=\"0.223529\" stroke=\"black\" d=\"M406.5,-187C406.5,-187 310.5,-187 310.5,-187 304.5,-187 298.5,-181 298.5,-175 298.5,-175 298.5,-116 298.5,-116 298.5,-110 304.5,-104 310.5,-104 310.5,-104 406.5,-104 406.5,-104 412.5,-104 418.5,-110 418.5,-116 418.5,-116 418.5,-175 418.5,-175 418.5,-181 412.5,-187 406.5,-187\"/>\r\n",
       "<text text-anchor=\"start\" x=\"306.5\" y=\"-171.8\" font-family=\"Helvetica,sans-Serif\" font-size=\"14.00\">Coorte ≤ 2013.5</text>\r\n",
       "<text text-anchor=\"start\" x=\"321\" y=\"-156.8\" font-family=\"Helvetica,sans-Serif\" font-size=\"14.00\">gini = 0.492</text>\r\n",
       "<text text-anchor=\"start\" x=\"315\" y=\"-141.8\" font-family=\"Helvetica,sans-Serif\" font-size=\"14.00\">samples = 16</text>\r\n",
       "<text text-anchor=\"start\" x=\"318\" y=\"-126.8\" font-family=\"Helvetica,sans-Serif\" font-size=\"14.00\">value = [9, 7]</text>\r\n",
       "<text text-anchor=\"start\" x=\"329.5\" y=\"-111.8\" font-family=\"Helvetica,sans-Serif\" font-size=\"14.00\">class = 0</text>\r\n",
       "</g>\r\n",
       "<!-- 3&#45;&gt;7 -->\r\n",
       "<g id=\"edge7\" class=\"edge\"><title>3&#45;&gt;7</title>\r\n",
       "<path fill=\"none\" stroke=\"black\" d=\"M358.5,-222.907C358.5,-214.649 358.5,-205.864 358.5,-197.302\"/>\r\n",
       "<polygon fill=\"black\" stroke=\"black\" points=\"362,-197.021 358.5,-187.021 355,-197.021 362,-197.021\"/>\r\n",
       "</g>\r\n",
       "<!-- 5 -->\r\n",
       "<g id=\"node6\" class=\"node\"><title>5</title>\r\n",
       "<path fill=\"#e58139\" fill-opacity=\"0.839216\" stroke=\"black\" d=\"M93,-68C93,-68 12,-68 12,-68 6,-68 0,-62 0,-56 0,-56 0,-12 0,-12 0,-6 6,-0 12,-0 12,-0 93,-0 93,-0 99,-0 105,-6 105,-12 105,-12 105,-56 105,-56 105,-62 99,-68 93,-68\"/>\r\n",
       "<text text-anchor=\"start\" x=\"15\" y=\"-52.8\" font-family=\"Helvetica,sans-Serif\" font-size=\"14.00\">gini = 0.239</text>\r\n",
       "<text text-anchor=\"start\" x=\"9\" y=\"-37.8\" font-family=\"Helvetica,sans-Serif\" font-size=\"14.00\">samples = 36</text>\r\n",
       "<text text-anchor=\"start\" x=\"8\" y=\"-22.8\" font-family=\"Helvetica,sans-Serif\" font-size=\"14.00\">value = [31, 5]</text>\r\n",
       "<text text-anchor=\"start\" x=\"23.5\" y=\"-7.8\" font-family=\"Helvetica,sans-Serif\" font-size=\"14.00\">class = 0</text>\r\n",
       "</g>\r\n",
       "<!-- 4&#45;&gt;5 -->\r\n",
       "<g id=\"edge5\" class=\"edge\"><title>4&#45;&gt;5</title>\r\n",
       "<path fill=\"none\" stroke=\"black\" d=\"M127.189,-103.726C117.078,-94.423 106.341,-84.5428 96.2541,-75.2612\"/>\r\n",
       "<polygon fill=\"black\" stroke=\"black\" points=\"98.4173,-72.4953 88.6886,-68.2996 93.6774,-77.6464 98.4173,-72.4953\"/>\r\n",
       "</g>\r\n",
       "<!-- 6 -->\r\n",
       "<g id=\"node7\" class=\"node\"><title>6</title>\r\n",
       "<path fill=\"#399de5\" stroke=\"black\" d=\"M208,-68C208,-68 135,-68 135,-68 129,-68 123,-62 123,-56 123,-56 123,-12 123,-12 123,-6 129,-0 135,-0 135,-0 208,-0 208,-0 214,-0 220,-6 220,-12 220,-12 220,-56 220,-56 220,-62 214,-68 208,-68\"/>\r\n",
       "<text text-anchor=\"start\" x=\"142.5\" y=\"-52.8\" font-family=\"Helvetica,sans-Serif\" font-size=\"14.00\">gini = 0.0</text>\r\n",
       "<text text-anchor=\"start\" x=\"132\" y=\"-37.8\" font-family=\"Helvetica,sans-Serif\" font-size=\"14.00\">samples = 1</text>\r\n",
       "<text text-anchor=\"start\" x=\"131\" y=\"-22.8\" font-family=\"Helvetica,sans-Serif\" font-size=\"14.00\">value = [0, 1]</text>\r\n",
       "<text text-anchor=\"start\" x=\"142.5\" y=\"-7.8\" font-family=\"Helvetica,sans-Serif\" font-size=\"14.00\">class = 1</text>\r\n",
       "</g>\r\n",
       "<!-- 4&#45;&gt;6 -->\r\n",
       "<g id=\"edge6\" class=\"edge\"><title>4&#45;&gt;6</title>\r\n",
       "<path fill=\"none\" stroke=\"black\" d=\"M171.5,-103.726C171.5,-95.5175 171.5,-86.8595 171.5,-78.56\"/>\r\n",
       "<polygon fill=\"black\" stroke=\"black\" points=\"175,-78.2996 171.5,-68.2996 168,-78.2996 175,-78.2996\"/>\r\n",
       "</g>\r\n",
       "<!-- 8 -->\r\n",
       "<g id=\"node9\" class=\"node\"><title>8</title>\r\n",
       "<path fill=\"#399de5\" fill-opacity=\"0.666667\" stroke=\"black\" d=\"M323,-68C323,-68 250,-68 250,-68 244,-68 238,-62 238,-56 238,-56 238,-12 238,-12 238,-6 244,-0 250,-0 250,-0 323,-0 323,-0 329,-0 335,-6 335,-12 335,-12 335,-56 335,-56 335,-62 329,-68 323,-68\"/>\r\n",
       "<text text-anchor=\"start\" x=\"249\" y=\"-52.8\" font-family=\"Helvetica,sans-Serif\" font-size=\"14.00\">gini = 0.375</text>\r\n",
       "<text text-anchor=\"start\" x=\"247\" y=\"-37.8\" font-family=\"Helvetica,sans-Serif\" font-size=\"14.00\">samples = 8</text>\r\n",
       "<text text-anchor=\"start\" x=\"246\" y=\"-22.8\" font-family=\"Helvetica,sans-Serif\" font-size=\"14.00\">value = [2, 6]</text>\r\n",
       "<text text-anchor=\"start\" x=\"257.5\" y=\"-7.8\" font-family=\"Helvetica,sans-Serif\" font-size=\"14.00\">class = 1</text>\r\n",
       "</g>\r\n",
       "<!-- 7&#45;&gt;8 -->\r\n",
       "<g id=\"edge8\" class=\"edge\"><title>7&#45;&gt;8</title>\r\n",
       "<path fill=\"none\" stroke=\"black\" d=\"M331.69,-103.726C325.932,-94.9703 319.839,-85.7032 314.054,-76.9051\"/>\r\n",
       "<polygon fill=\"black\" stroke=\"black\" points=\"316.814,-74.7322 308.396,-68.2996 310.965,-78.5781 316.814,-74.7322\"/>\r\n",
       "</g>\r\n",
       "<!-- 9 -->\r\n",
       "<g id=\"node10\" class=\"node\"><title>9</title>\r\n",
       "<path fill=\"#e58139\" fill-opacity=\"0.858824\" stroke=\"black\" d=\"M438,-68C438,-68 365,-68 365,-68 359,-68 353,-62 353,-56 353,-56 353,-12 353,-12 353,-6 359,-0 365,-0 365,-0 438,-0 438,-0 444,-0 450,-6 450,-12 450,-12 450,-56 450,-56 450,-62 444,-68 438,-68\"/>\r\n",
       "<text text-anchor=\"start\" x=\"364\" y=\"-52.8\" font-family=\"Helvetica,sans-Serif\" font-size=\"14.00\">gini = 0.219</text>\r\n",
       "<text text-anchor=\"start\" x=\"362\" y=\"-37.8\" font-family=\"Helvetica,sans-Serif\" font-size=\"14.00\">samples = 8</text>\r\n",
       "<text text-anchor=\"start\" x=\"361\" y=\"-22.8\" font-family=\"Helvetica,sans-Serif\" font-size=\"14.00\">value = [7, 1]</text>\r\n",
       "<text text-anchor=\"start\" x=\"372.5\" y=\"-7.8\" font-family=\"Helvetica,sans-Serif\" font-size=\"14.00\">class = 0</text>\r\n",
       "</g>\r\n",
       "<!-- 7&#45;&gt;9 -->\r\n",
       "<g id=\"edge9\" class=\"edge\"><title>7&#45;&gt;9</title>\r\n",
       "<path fill=\"none\" stroke=\"black\" d=\"M374.512,-103.726C377.843,-95.2439 381.362,-86.2819 384.72,-77.7312\"/>\r\n",
       "<polygon fill=\"black\" stroke=\"black\" points=\"388.026,-78.887 388.423,-68.2996 381.51,-76.3283 388.026,-78.887\"/>\r\n",
       "</g>\r\n",
       "<!-- 11 -->\r\n",
       "<g id=\"node12\" class=\"node\"><title>11</title>\r\n",
       "<path fill=\"#399de5\" fill-opacity=\"0.843137\" stroke=\"black\" d=\"M733,-306C733,-306 644,-306 644,-306 638,-306 632,-300 632,-294 632,-294 632,-235 632,-235 632,-229 638,-223 644,-223 644,-223 733,-223 733,-223 739,-223 745,-229 745,-235 745,-235 745,-294 745,-294 745,-300 739,-306 733,-306\"/>\r\n",
       "<text text-anchor=\"start\" x=\"651.5\" y=\"-290.8\" font-family=\"Helvetica,sans-Serif\" font-size=\"14.00\">ASD ≤ 21.5</text>\r\n",
       "<text text-anchor=\"start\" x=\"651\" y=\"-275.8\" font-family=\"Helvetica,sans-Serif\" font-size=\"14.00\">gini = 0.236</text>\r\n",
       "<text text-anchor=\"start\" x=\"641\" y=\"-260.8\" font-family=\"Helvetica,sans-Serif\" font-size=\"14.00\">samples = 110</text>\r\n",
       "<text text-anchor=\"start\" x=\"640\" y=\"-245.8\" font-family=\"Helvetica,sans-Serif\" font-size=\"14.00\">value = [15, 95]</text>\r\n",
       "<text text-anchor=\"start\" x=\"659.5\" y=\"-230.8\" font-family=\"Helvetica,sans-Serif\" font-size=\"14.00\">class = 1</text>\r\n",
       "</g>\r\n",
       "<!-- 10&#45;&gt;11 -->\r\n",
       "<g id=\"edge11\" class=\"edge\"><title>10&#45;&gt;11</title>\r\n",
       "<path fill=\"none\" stroke=\"black\" d=\"M688.5,-341.907C688.5,-333.649 688.5,-324.864 688.5,-316.302\"/>\r\n",
       "<polygon fill=\"black\" stroke=\"black\" points=\"692,-316.021 688.5,-306.021 685,-316.021 692,-316.021\"/>\r\n",
       "</g>\r\n",
       "<!-- 18 -->\r\n",
       "<g id=\"node19\" class=\"node\"><title>18</title>\r\n",
       "<path fill=\"#e58139\" fill-opacity=\"0.074510\" stroke=\"black\" d=\"M1091.5,-306C1091.5,-306 985.5,-306 985.5,-306 979.5,-306 973.5,-300 973.5,-294 973.5,-294 973.5,-235 973.5,-235 973.5,-229 979.5,-223 985.5,-223 985.5,-223 1091.5,-223 1091.5,-223 1097.5,-223 1103.5,-229 1103.5,-235 1103.5,-235 1103.5,-294 1103.5,-294 1103.5,-300 1097.5,-306 1091.5,-306\"/>\r\n",
       "<text text-anchor=\"start\" x=\"981.5\" y=\"-290.8\" font-family=\"Helvetica,sans-Serif\" font-size=\"14.00\">Voto_test ≤ 0.149</text>\r\n",
       "<text text-anchor=\"start\" x=\"1001\" y=\"-275.8\" font-family=\"Helvetica,sans-Serif\" font-size=\"14.00\">gini = 0.499</text>\r\n",
       "<text text-anchor=\"start\" x=\"991\" y=\"-260.8\" font-family=\"Helvetica,sans-Serif\" font-size=\"14.00\">samples = 104</text>\r\n",
       "<text text-anchor=\"start\" x=\"990\" y=\"-245.8\" font-family=\"Helvetica,sans-Serif\" font-size=\"14.00\">value = [54, 50]</text>\r\n",
       "<text text-anchor=\"start\" x=\"1009.5\" y=\"-230.8\" font-family=\"Helvetica,sans-Serif\" font-size=\"14.00\">class = 0</text>\r\n",
       "</g>\r\n",
       "<!-- 10&#45;&gt;18 -->\r\n",
       "<g id=\"edge18\" class=\"edge\"><title>10&#45;&gt;18</title>\r\n",
       "<path fill=\"none\" stroke=\"black\" d=\"M749.866,-361.986C809.446,-342.07 899.986,-311.803 963.742,-290.491\"/>\r\n",
       "<polygon fill=\"black\" stroke=\"black\" points=\"964.967,-293.772 973.341,-287.282 962.747,-287.133 964.967,-293.772\"/>\r\n",
       "</g>\r\n",
       "<!-- 12 -->\r\n",
       "<g id=\"node13\" class=\"node\"><title>12</title>\r\n",
       "<path fill=\"#e58139\" fill-opacity=\"0.572549\" stroke=\"black\" d=\"M665.5,-187C665.5,-187 563.5,-187 563.5,-187 557.5,-187 551.5,-181 551.5,-175 551.5,-175 551.5,-116 551.5,-116 551.5,-110 557.5,-104 563.5,-104 563.5,-104 665.5,-104 665.5,-104 671.5,-104 677.5,-110 677.5,-116 677.5,-116 677.5,-175 677.5,-175 677.5,-181 671.5,-187 665.5,-187\"/>\r\n",
       "<text text-anchor=\"start\" x=\"559.5\" y=\"-171.8\" font-family=\"Helvetica,sans-Serif\" font-size=\"14.00\">Voto_test ≤ &#45;0.36</text>\r\n",
       "<text text-anchor=\"start\" x=\"581\" y=\"-156.8\" font-family=\"Helvetica,sans-Serif\" font-size=\"14.00\">gini = 0.42</text>\r\n",
       "<text text-anchor=\"start\" x=\"571\" y=\"-141.8\" font-family=\"Helvetica,sans-Serif\" font-size=\"14.00\">samples = 10</text>\r\n",
       "<text text-anchor=\"start\" x=\"574\" y=\"-126.8\" font-family=\"Helvetica,sans-Serif\" font-size=\"14.00\">value = [7, 3]</text>\r\n",
       "<text text-anchor=\"start\" x=\"585.5\" y=\"-111.8\" font-family=\"Helvetica,sans-Serif\" font-size=\"14.00\">class = 0</text>\r\n",
       "</g>\r\n",
       "<!-- 11&#45;&gt;12 -->\r\n",
       "<g id=\"edge12\" class=\"edge\"><title>11&#45;&gt;12</title>\r\n",
       "<path fill=\"none\" stroke=\"black\" d=\"M662.826,-222.907C657.258,-214.105 651.312,-204.703 645.562,-195.612\"/>\r\n",
       "<polygon fill=\"black\" stroke=\"black\" points=\"648.432,-193.601 640.129,-187.021 642.516,-197.343 648.432,-193.601\"/>\r\n",
       "</g>\r\n",
       "<!-- 15 -->\r\n",
       "<g id=\"node16\" class=\"node\"><title>15</title>\r\n",
       "<path fill=\"#399de5\" fill-opacity=\"0.913725\" stroke=\"black\" d=\"M817.5,-187C817.5,-187 707.5,-187 707.5,-187 701.5,-187 695.5,-181 695.5,-175 695.5,-175 695.5,-116 695.5,-116 695.5,-110 701.5,-104 707.5,-104 707.5,-104 817.5,-104 817.5,-104 823.5,-104 829.5,-110 829.5,-116 829.5,-116 829.5,-175 829.5,-175 829.5,-181 823.5,-187 817.5,-187\"/>\r\n",
       "<text text-anchor=\"start\" x=\"703.5\" y=\"-171.8\" font-family=\"Helvetica,sans-Serif\" font-size=\"14.00\">Voto_test ≤ &#45;1.404</text>\r\n",
       "<text text-anchor=\"start\" x=\"725\" y=\"-156.8\" font-family=\"Helvetica,sans-Serif\" font-size=\"14.00\">gini = 0.147</text>\r\n",
       "<text text-anchor=\"start\" x=\"715\" y=\"-141.8\" font-family=\"Helvetica,sans-Serif\" font-size=\"14.00\">samples = 100</text>\r\n",
       "<text text-anchor=\"start\" x=\"718\" y=\"-126.8\" font-family=\"Helvetica,sans-Serif\" font-size=\"14.00\">value = [8, 92]</text>\r\n",
       "<text text-anchor=\"start\" x=\"733.5\" y=\"-111.8\" font-family=\"Helvetica,sans-Serif\" font-size=\"14.00\">class = 1</text>\r\n",
       "</g>\r\n",
       "<!-- 11&#45;&gt;15 -->\r\n",
       "<g id=\"edge15\" class=\"edge\"><title>11&#45;&gt;15</title>\r\n",
       "<path fill=\"none\" stroke=\"black\" d=\"M714.174,-222.907C719.742,-214.105 725.688,-204.703 731.438,-195.612\"/>\r\n",
       "<polygon fill=\"black\" stroke=\"black\" points=\"734.484,-197.343 736.871,-187.021 728.568,-193.601 734.484,-197.343\"/>\r\n",
       "</g>\r\n",
       "<!-- 13 -->\r\n",
       "<g id=\"node14\" class=\"node\"><title>13</title>\r\n",
       "<path fill=\"#e58139\" stroke=\"black\" d=\"M553,-68C553,-68 480,-68 480,-68 474,-68 468,-62 468,-56 468,-56 468,-12 468,-12 468,-6 474,-0 480,-0 480,-0 553,-0 553,-0 559,-0 565,-6 565,-12 565,-12 565,-56 565,-56 565,-62 559,-68 553,-68\"/>\r\n",
       "<text text-anchor=\"start\" x=\"487.5\" y=\"-52.8\" font-family=\"Helvetica,sans-Serif\" font-size=\"14.00\">gini = 0.0</text>\r\n",
       "<text text-anchor=\"start\" x=\"477\" y=\"-37.8\" font-family=\"Helvetica,sans-Serif\" font-size=\"14.00\">samples = 4</text>\r\n",
       "<text text-anchor=\"start\" x=\"476\" y=\"-22.8\" font-family=\"Helvetica,sans-Serif\" font-size=\"14.00\">value = [4, 0]</text>\r\n",
       "<text text-anchor=\"start\" x=\"487.5\" y=\"-7.8\" font-family=\"Helvetica,sans-Serif\" font-size=\"14.00\">class = 0</text>\r\n",
       "</g>\r\n",
       "<!-- 12&#45;&gt;13 -->\r\n",
       "<g id=\"edge13\" class=\"edge\"><title>12&#45;&gt;13</title>\r\n",
       "<path fill=\"none\" stroke=\"black\" d=\"M578.008,-103.726C569.845,-94.6054 561.186,-84.93 553.022,-75.8078\"/>\r\n",
       "<polygon fill=\"black\" stroke=\"black\" points=\"555.579,-73.417 546.302,-68.2996 550.363,-78.0853 555.579,-73.417\"/>\r\n",
       "</g>\r\n",
       "<!-- 14 -->\r\n",
       "<g id=\"node15\" class=\"node\"><title>14</title>\r\n",
       "<path fill=\"none\" stroke=\"black\" d=\"M668,-68C668,-68 595,-68 595,-68 589,-68 583,-62 583,-56 583,-56 583,-12 583,-12 583,-6 589,-0 595,-0 595,-0 668,-0 668,-0 674,-0 680,-6 680,-12 680,-12 680,-56 680,-56 680,-62 674,-68 668,-68\"/>\r\n",
       "<text text-anchor=\"start\" x=\"602.5\" y=\"-52.8\" font-family=\"Helvetica,sans-Serif\" font-size=\"14.00\">gini = 0.5</text>\r\n",
       "<text text-anchor=\"start\" x=\"592\" y=\"-37.8\" font-family=\"Helvetica,sans-Serif\" font-size=\"14.00\">samples = 6</text>\r\n",
       "<text text-anchor=\"start\" x=\"591\" y=\"-22.8\" font-family=\"Helvetica,sans-Serif\" font-size=\"14.00\">value = [3, 3]</text>\r\n",
       "<text text-anchor=\"start\" x=\"602.5\" y=\"-7.8\" font-family=\"Helvetica,sans-Serif\" font-size=\"14.00\">class = 0</text>\r\n",
       "</g>\r\n",
       "<!-- 12&#45;&gt;14 -->\r\n",
       "<g id=\"edge14\" class=\"edge\"><title>12&#45;&gt;14</title>\r\n",
       "<path fill=\"none\" stroke=\"black\" d=\"M620.83,-103.726C622.119,-95.4263 623.479,-86.6671 624.78,-78.2834\"/>\r\n",
       "<polygon fill=\"black\" stroke=\"black\" points=\"628.255,-78.7182 626.33,-68.2996 621.337,-77.6442 628.255,-78.7182\"/>\r\n",
       "</g>\r\n",
       "<!-- 16 -->\r\n",
       "<g id=\"node17\" class=\"node\"><title>16</title>\r\n",
       "<path fill=\"#e58139\" fill-opacity=\"0.498039\" stroke=\"black\" d=\"M783,-68C783,-68 710,-68 710,-68 704,-68 698,-62 698,-56 698,-56 698,-12 698,-12 698,-6 704,-0 710,-0 710,-0 783,-0 783,-0 789,-0 795,-6 795,-12 795,-12 795,-56 795,-56 795,-62 789,-68 783,-68\"/>\r\n",
       "<text text-anchor=\"start\" x=\"709\" y=\"-52.8\" font-family=\"Helvetica,sans-Serif\" font-size=\"14.00\">gini = 0.444</text>\r\n",
       "<text text-anchor=\"start\" x=\"707\" y=\"-37.8\" font-family=\"Helvetica,sans-Serif\" font-size=\"14.00\">samples = 3</text>\r\n",
       "<text text-anchor=\"start\" x=\"706\" y=\"-22.8\" font-family=\"Helvetica,sans-Serif\" font-size=\"14.00\">value = [2, 1]</text>\r\n",
       "<text text-anchor=\"start\" x=\"717.5\" y=\"-7.8\" font-family=\"Helvetica,sans-Serif\" font-size=\"14.00\">class = 0</text>\r\n",
       "</g>\r\n",
       "<!-- 15&#45;&gt;16 -->\r\n",
       "<g id=\"edge16\" class=\"edge\"><title>15&#45;&gt;16</title>\r\n",
       "<path fill=\"none\" stroke=\"black\" d=\"M756.542,-103.726C755.329,-95.4263 754.05,-86.6671 752.825,-78.2834\"/>\r\n",
       "<polygon fill=\"black\" stroke=\"black\" points=\"756.275,-77.6885 751.366,-68.2996 749.348,-78.7006 756.275,-77.6885\"/>\r\n",
       "</g>\r\n",
       "<!-- 17 -->\r\n",
       "<g id=\"node18\" class=\"node\"><title>17</title>\r\n",
       "<path fill=\"#399de5\" fill-opacity=\"0.933333\" stroke=\"black\" d=\"M906,-68C906,-68 825,-68 825,-68 819,-68 813,-62 813,-56 813,-56 813,-12 813,-12 813,-6 819,-0 825,-0 825,-0 906,-0 906,-0 912,-0 918,-6 918,-12 918,-12 918,-56 918,-56 918,-62 912,-68 906,-68\"/>\r\n",
       "<text text-anchor=\"start\" x=\"828\" y=\"-52.8\" font-family=\"Helvetica,sans-Serif\" font-size=\"14.00\">gini = 0.116</text>\r\n",
       "<text text-anchor=\"start\" x=\"822\" y=\"-37.8\" font-family=\"Helvetica,sans-Serif\" font-size=\"14.00\">samples = 97</text>\r\n",
       "<text text-anchor=\"start\" x=\"821\" y=\"-22.8\" font-family=\"Helvetica,sans-Serif\" font-size=\"14.00\">value = [6, 91]</text>\r\n",
       "<text text-anchor=\"start\" x=\"836.5\" y=\"-7.8\" font-family=\"Helvetica,sans-Serif\" font-size=\"14.00\">class = 1</text>\r\n",
       "</g>\r\n",
       "<!-- 15&#45;&gt;17 -->\r\n",
       "<g id=\"edge17\" class=\"edge\"><title>15&#45;&gt;17</title>\r\n",
       "<path fill=\"none\" stroke=\"black\" d=\"M800.853,-103.726C809.433,-94.6054 818.534,-84.93 827.115,-75.8078\"/>\r\n",
       "<polygon fill=\"black\" stroke=\"black\" points=\"829.875,-77.9816 834.177,-68.2996 824.776,-73.1855 829.875,-77.9816\"/>\r\n",
       "</g>\r\n",
       "<!-- 19 -->\r\n",
       "<g id=\"node20\" class=\"node\"><title>19</title>\r\n",
       "<path fill=\"#e58139\" fill-opacity=\"0.694118\" stroke=\"black\" d=\"M1089.5,-187C1089.5,-187 987.5,-187 987.5,-187 981.5,-187 975.5,-181 975.5,-175 975.5,-175 975.5,-116 975.5,-116 975.5,-110 981.5,-104 987.5,-104 987.5,-104 1089.5,-104 1089.5,-104 1095.5,-104 1101.5,-110 1101.5,-116 1101.5,-116 1101.5,-175 1101.5,-175 1101.5,-181 1095.5,-187 1089.5,-187\"/>\r\n",
       "<text text-anchor=\"start\" x=\"983.5\" y=\"-171.8\" font-family=\"Helvetica,sans-Serif\" font-size=\"14.00\">Voto_test ≤ &#45;1.48</text>\r\n",
       "<text text-anchor=\"start\" x=\"1005\" y=\"-156.8\" font-family=\"Helvetica,sans-Serif\" font-size=\"14.00\">gini = 0.36</text>\r\n",
       "<text text-anchor=\"start\" x=\"995\" y=\"-141.8\" font-family=\"Helvetica,sans-Serif\" font-size=\"14.00\">samples = 51</text>\r\n",
       "<text text-anchor=\"start\" x=\"990\" y=\"-126.8\" font-family=\"Helvetica,sans-Serif\" font-size=\"14.00\">value = [39, 12]</text>\r\n",
       "<text text-anchor=\"start\" x=\"1009.5\" y=\"-111.8\" font-family=\"Helvetica,sans-Serif\" font-size=\"14.00\">class = 0</text>\r\n",
       "</g>\r\n",
       "<!-- 18&#45;&gt;19 -->\r\n",
       "<g id=\"edge19\" class=\"edge\"><title>18&#45;&gt;19</title>\r\n",
       "<path fill=\"none\" stroke=\"black\" d=\"M1038.5,-222.907C1038.5,-214.649 1038.5,-205.864 1038.5,-197.302\"/>\r\n",
       "<polygon fill=\"black\" stroke=\"black\" points=\"1042,-197.021 1038.5,-187.021 1035,-197.021 1042,-197.021\"/>\r\n",
       "</g>\r\n",
       "<!-- 22 -->\r\n",
       "<g id=\"node23\" class=\"node\"><title>22</title>\r\n",
       "<path fill=\"#399de5\" fill-opacity=\"0.603922\" stroke=\"black\" d=\"M1275,-187C1275,-187 1186,-187 1186,-187 1180,-187 1174,-181 1174,-175 1174,-175 1174,-116 1174,-116 1174,-110 1180,-104 1186,-104 1186,-104 1275,-104 1275,-104 1281,-104 1287,-110 1287,-116 1287,-116 1287,-175 1287,-175 1287,-181 1281,-187 1275,-187\"/>\r\n",
       "<text text-anchor=\"start\" x=\"1194.5\" y=\"-171.8\" font-family=\"Helvetica,sans-Serif\" font-size=\"14.00\">AN1 ≤ 30.5</text>\r\n",
       "<text text-anchor=\"start\" x=\"1193\" y=\"-156.8\" font-family=\"Helvetica,sans-Serif\" font-size=\"14.00\">gini = 0.406</text>\r\n",
       "<text text-anchor=\"start\" x=\"1187\" y=\"-141.8\" font-family=\"Helvetica,sans-Serif\" font-size=\"14.00\">samples = 53</text>\r\n",
       "<text text-anchor=\"start\" x=\"1182\" y=\"-126.8\" font-family=\"Helvetica,sans-Serif\" font-size=\"14.00\">value = [15, 38]</text>\r\n",
       "<text text-anchor=\"start\" x=\"1201.5\" y=\"-111.8\" font-family=\"Helvetica,sans-Serif\" font-size=\"14.00\">class = 1</text>\r\n",
       "</g>\r\n",
       "<!-- 18&#45;&gt;22 -->\r\n",
       "<g id=\"edge22\" class=\"edge\"><title>18&#45;&gt;22</title>\r\n",
       "<path fill=\"none\" stroke=\"black\" d=\"M1103.5,-223.889C1123.4,-211.762 1145.3,-198.422 1165.22,-186.283\"/>\r\n",
       "<polygon fill=\"black\" stroke=\"black\" points=\"1167.2,-189.173 1173.92,-180.981 1163.56,-183.196 1167.2,-189.173\"/>\r\n",
       "</g>\r\n",
       "<!-- 20 -->\r\n",
       "<g id=\"node21\" class=\"node\"><title>20</title>\r\n",
       "<path fill=\"#399de5\" fill-opacity=\"0.498039\" stroke=\"black\" d=\"M1021,-68C1021,-68 948,-68 948,-68 942,-68 936,-62 936,-56 936,-56 936,-12 936,-12 936,-6 942,-0 948,-0 948,-0 1021,-0 1021,-0 1027,-0 1033,-6 1033,-12 1033,-12 1033,-56 1033,-56 1033,-62 1027,-68 1021,-68\"/>\r\n",
       "<text text-anchor=\"start\" x=\"947\" y=\"-52.8\" font-family=\"Helvetica,sans-Serif\" font-size=\"14.00\">gini = 0.444</text>\r\n",
       "<text text-anchor=\"start\" x=\"945\" y=\"-37.8\" font-family=\"Helvetica,sans-Serif\" font-size=\"14.00\">samples = 6</text>\r\n",
       "<text text-anchor=\"start\" x=\"944\" y=\"-22.8\" font-family=\"Helvetica,sans-Serif\" font-size=\"14.00\">value = [2, 4]</text>\r\n",
       "<text text-anchor=\"start\" x=\"955.5\" y=\"-7.8\" font-family=\"Helvetica,sans-Serif\" font-size=\"14.00\">class = 1</text>\r\n",
       "</g>\r\n",
       "<!-- 19&#45;&gt;20 -->\r\n",
       "<g id=\"edge20\" class=\"edge\"><title>19&#45;&gt;20</title>\r\n",
       "<path fill=\"none\" stroke=\"black\" d=\"M1018.39,-103.726C1014.16,-95.1527 1009.69,-86.0891 1005.44,-77.4555\"/>\r\n",
       "<polygon fill=\"black\" stroke=\"black\" points=\"1008.48,-75.7203 1000.92,-68.2996 1002.21,-78.8164 1008.48,-75.7203\"/>\r\n",
       "</g>\r\n",
       "<!-- 21 -->\r\n",
       "<g id=\"node22\" class=\"node\"><title>21</title>\r\n",
       "<path fill=\"#e58139\" fill-opacity=\"0.784314\" stroke=\"black\" d=\"M1144,-68C1144,-68 1063,-68 1063,-68 1057,-68 1051,-62 1051,-56 1051,-56 1051,-12 1051,-12 1051,-6 1057,-0 1063,-0 1063,-0 1144,-0 1144,-0 1150,-0 1156,-6 1156,-12 1156,-12 1156,-56 1156,-56 1156,-62 1150,-68 1144,-68\"/>\r\n",
       "<text text-anchor=\"start\" x=\"1066\" y=\"-52.8\" font-family=\"Helvetica,sans-Serif\" font-size=\"14.00\">gini = 0.292</text>\r\n",
       "<text text-anchor=\"start\" x=\"1060\" y=\"-37.8\" font-family=\"Helvetica,sans-Serif\" font-size=\"14.00\">samples = 45</text>\r\n",
       "<text text-anchor=\"start\" x=\"1059\" y=\"-22.8\" font-family=\"Helvetica,sans-Serif\" font-size=\"14.00\">value = [37, 8]</text>\r\n",
       "<text text-anchor=\"start\" x=\"1074.5\" y=\"-7.8\" font-family=\"Helvetica,sans-Serif\" font-size=\"14.00\">class = 0</text>\r\n",
       "</g>\r\n",
       "<!-- 19&#45;&gt;21 -->\r\n",
       "<g id=\"edge21\" class=\"edge\"><title>19&#45;&gt;21</title>\r\n",
       "<path fill=\"none\" stroke=\"black\" d=\"M1062.7,-103.726C1067.9,-94.9703 1073.4,-85.7032 1078.62,-76.9051\"/>\r\n",
       "<polygon fill=\"black\" stroke=\"black\" points=\"1081.64,-78.6853 1083.73,-68.2996 1075.62,-75.1121 1081.64,-78.6853\"/>\r\n",
       "</g>\r\n",
       "<!-- 23 -->\r\n",
       "<g id=\"node24\" class=\"node\"><title>23</title>\r\n",
       "<path fill=\"#399de5\" fill-opacity=\"0.250980\" stroke=\"black\" d=\"M1275,-68C1275,-68 1186,-68 1186,-68 1180,-68 1174,-62 1174,-56 1174,-56 1174,-12 1174,-12 1174,-6 1180,-0 1186,-0 1186,-0 1275,-0 1275,-0 1281,-0 1287,-6 1287,-12 1287,-12 1287,-56 1287,-56 1287,-62 1281,-68 1275,-68\"/>\r\n",
       "<text text-anchor=\"start\" x=\"1197\" y=\"-52.8\" font-family=\"Helvetica,sans-Serif\" font-size=\"14.00\">gini = 0.49</text>\r\n",
       "<text text-anchor=\"start\" x=\"1187\" y=\"-37.8\" font-family=\"Helvetica,sans-Serif\" font-size=\"14.00\">samples = 35</text>\r\n",
       "<text text-anchor=\"start\" x=\"1182\" y=\"-22.8\" font-family=\"Helvetica,sans-Serif\" font-size=\"14.00\">value = [15, 20]</text>\r\n",
       "<text text-anchor=\"start\" x=\"1201.5\" y=\"-7.8\" font-family=\"Helvetica,sans-Serif\" font-size=\"14.00\">class = 1</text>\r\n",
       "</g>\r\n",
       "<!-- 22&#45;&gt;23 -->\r\n",
       "<g id=\"edge23\" class=\"edge\"><title>22&#45;&gt;23</title>\r\n",
       "<path fill=\"none\" stroke=\"black\" d=\"M1230.5,-103.726C1230.5,-95.5175 1230.5,-86.8595 1230.5,-78.56\"/>\r\n",
       "<polygon fill=\"black\" stroke=\"black\" points=\"1234,-78.2996 1230.5,-68.2996 1227,-78.2996 1234,-78.2996\"/>\r\n",
       "</g>\r\n",
       "<!-- 24 -->\r\n",
       "<g id=\"node25\" class=\"node\"><title>24</title>\r\n",
       "<path fill=\"#399de5\" stroke=\"black\" d=\"M1398,-68C1398,-68 1317,-68 1317,-68 1311,-68 1305,-62 1305,-56 1305,-56 1305,-12 1305,-12 1305,-6 1311,-0 1317,-0 1317,-0 1398,-0 1398,-0 1404,-0 1410,-6 1410,-12 1410,-12 1410,-56 1410,-56 1410,-62 1404,-68 1398,-68\"/>\r\n",
       "<text text-anchor=\"start\" x=\"1328.5\" y=\"-52.8\" font-family=\"Helvetica,sans-Serif\" font-size=\"14.00\">gini = 0.0</text>\r\n",
       "<text text-anchor=\"start\" x=\"1314\" y=\"-37.8\" font-family=\"Helvetica,sans-Serif\" font-size=\"14.00\">samples = 18</text>\r\n",
       "<text text-anchor=\"start\" x=\"1313\" y=\"-22.8\" font-family=\"Helvetica,sans-Serif\" font-size=\"14.00\">value = [0, 18]</text>\r\n",
       "<text text-anchor=\"start\" x=\"1328.5\" y=\"-7.8\" font-family=\"Helvetica,sans-Serif\" font-size=\"14.00\">class = 1</text>\r\n",
       "</g>\r\n",
       "<!-- 22&#45;&gt;24 -->\r\n",
       "<g id=\"edge24\" class=\"edge\"><title>22&#45;&gt;24</title>\r\n",
       "<path fill=\"none\" stroke=\"black\" d=\"M1277.79,-103.726C1288.69,-94.3318 1300.26,-84.349 1311.12,-74.9883\"/>\r\n",
       "<polygon fill=\"black\" stroke=\"black\" points=\"1313.59,-77.4804 1318.88,-68.2996 1309.02,-72.1789 1313.59,-77.4804\"/>\r\n",
       "</g>\r\n",
       "</g>\r\n",
       "</svg>\r\n"
      ],
      "text/plain": [
       "<graphviz.files.Source at 0x14f6350f550>"
      ]
     },
     "execution_count": 37,
     "metadata": {},
     "output_type": "execute_result"
    }
   ],
   "source": [
    "dataset4 = ds4.drop(\"MDL\", axis=1).values\n",
    "target4 = ds4[\"MDL\"].values\n",
    "class_names4 = [\"0\", \"1\"]\n",
    "training_set4, test_set4, target_train4, target_test4 = train_test_split(dataset4, target4, test_size=0.3, random_state=42)\n",
    "DecisionTree(\"gini\", 4,1, ds4,class_names4,\"MDL\", training_set4, target_train4, test_set4, target_test4)"
   ]
  },
  {
   "cell_type": "markdown",
   "metadata": {},
   "source": [
    "## Commento sui risultati ottenuti"
   ]
  },
  {
   "cell_type": "markdown",
   "metadata": {},
   "source": [
    ">Con questa configurazione abbiamo ottenuto una accuracy dell'85% per il training set e del 77% per il test set.\n",
    "Possiamo osservare che il modello classifica in modo corretto la maggior parte degli studenti. Apparentemente è quindi possibile predire se uno studente svolgerà l'esame di MDL entro l'anno, conoscendo i suoi dati."
   ]
  },
  {
   "cell_type": "code",
   "execution_count": null,
   "metadata": {},
   "outputs": [],
   "source": []
  }
 ],
 "metadata": {
  "kernelspec": {
   "display_name": "Python 3",
   "language": "python",
   "name": "python3"
  },
  "language_info": {
   "codemirror_mode": {
    "name": "ipython",
    "version": 3
   },
   "file_extension": ".py",
   "mimetype": "text/x-python",
   "name": "python",
   "nbconvert_exporter": "python",
   "pygments_lexer": "ipython3",
   "version": "3.7.1"
  }
 },
 "nbformat": 4,
 "nbformat_minor": 2
}
